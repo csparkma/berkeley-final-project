{
 "cells": [
  {
   "cell_type": "code",
   "execution_count": null,
   "metadata": {},
   "outputs": [],
   "source": [
    "\n",
    "from google.cloud import bigquery\n",
    "from google.oauth2 import service_account\n",
    "import pandas as pd"
   ]
  },
  {
   "cell_type": "code",
   "execution_count": null,
   "metadata": {},
   "outputs": [],
   "source": [
    "pwd"
   ]
  },
  {
   "cell_type": "code",
   "execution_count": null,
   "metadata": {},
   "outputs": [],
   "source": [
    "#https://cloud.google.com/docs/authentication/getting-started#command-line\n",
    "\n",
    "credentials = service_account.Credentials.from_service_account_file(\n",
    "    \"./Bootcamp-BigQuery-1adda4aebc1b.json\")\n",
    "project_id = 'bootcamp-bigquery-290701'\n",
    "\n",
    "    "
   ]
  },
  {
   "cell_type": "code",
   "execution_count": null,
   "metadata": {},
   "outputs": [],
   "source": [
    "\n",
    "client = bigquery.Client(credentials = credentials,project = project_id)"
   ]
  },
  {
   "cell_type": "code",
   "execution_count": null,
   "metadata": {},
   "outputs": [],
   "source": [
    "query_job = client.query(\"\"\"\n",
    "SELECT\n",
    "fullvisitorId\n",
    ",visitId\n",
    ",visitNumber\n",
    ",visitStartTime\n",
    ",date\n",
    ",socialEngagementType\n",
    ",channelGrouping\n",
    ",device.browser\n",
    ",device.operatingSystem\n",
    ",device.deviceCategory\n",
    ",geoNetwork.continent\n",
    ",geoNetwork.subContinent\n",
    ",geoNetwork.country\n",
    ",geoNetwork.region\n",
    ",geoNetwork.metro\n",
    ",geoNetwork.city\n",
    ",trafficSource.referralPath\n",
    ",trafficSource.source\n",
    ",trafficSource.medium\n",
    ",trafficSource.isTrueDirect\n",
    ",totals.bounces\n",
    ",totals.hits\n",
    ",totals.newVisits\n",
    ",totals.pageviews\n",
    ",totals.sessionQualityDim\n",
    ",totals.totalTransactionRevenue\n",
    ",totals.transactionRevenue\n",
    ",totals.transactions\n",
    ",totals.visits\n",
    "\n",
    "FROM\n",
    "  `bigquery-public-data.google_analytics_sample.ga_sessions_*`\n",
    "where _table_suffix between '20170501' and '20170831'\n",
    "\n",
    "order by 1,2 nulls last\n",
    "   LIMIT 300000 \"\"\")\n",
    "\n",
    "results = query_job.result() # Wait for the job to complete."
   ]
  },
  {
   "cell_type": "code",
   "execution_count": null,
   "metadata": {
    "scrolled": true
   },
   "outputs": [],
   "source": [
    "totals_df = results.to_dataframe()\n",
    "\n",
    "print(totals_df.shape)\n",
    "totals_df.head()\n",
    "# Having a lot of issues using pyarrow. I uninstalled the package and am getting things to work"
   ]
  },
  {
   "cell_type": "code",
   "execution_count": null,
   "metadata": {},
   "outputs": [],
   "source": [
    "totals_df = totals_df.fillna(0)\n",
    "totals_df.isTrueDirect = totals_df.isTrueDirect.astype('bool')\n",
    "totals_df.bounces = totals_df.bounces.astype('int')\n",
    "totals_df.newVisits = totals_df.newVisits.astype('int')\n",
    "totals_df.pageviews = totals_df.pageviews.astype('int')\n",
    "totals_df.sessionQualityDim = totals_df.sessionQualityDim.astype('int')\n",
    "totals_df.totalTransactionRevenue = totals_df.totalTransactionRevenue.astype('int64')\n",
    "totals_df.transactionRevenue = totals_df.transactionRevenue.astype('int64')\n",
    "totals_df.transactions = totals_df.transactions.astype('int')\n",
    "totals_df.dtypes"
   ]
  },
  {
   "cell_type": "code",
   "execution_count": null,
   "metadata": {},
   "outputs": [],
   "source": [
    "def char_len(x, fixed_n):\n",
    "    '''set string x to fixed_n character, prepend with 'xxx' if short'''\n",
    "    if len(x) > fixed_n: \n",
    "        return x[:fixed_n] \n",
    "    elif len(x) < fixed_n: \n",
    "        return 'x' * (fixed_n - len(x)) + x \n",
    "    return x \n",
    "totals_df.referralPath = totals_df.referralPath.apply(lambda x: char_len,254)"
   ]
  },
  {
   "cell_type": "code",
   "execution_count": null,
   "metadata": {},
   "outputs": [],
   "source": []
  },
  {
   "cell_type": "code",
   "execution_count": null,
   "metadata": {},
   "outputs": [],
   "source": [
    "my_query = \"\"\"\n",
    "SELECT\n",
    "distinct\n",
    "fullVisitorID\n",
    ",date\n",
    "\n",
    " FROM\n",
    "`bigquery-public-data.google_analytics_sample.ga_sessions_*`\n",
    " WHERE _TABLE_SUFFIX BETWEEN '20170801' and '20170831'\n",
    " ;\n",
    "\"\"\"\n",
    "\n",
    "\n",
    "query_job = client.query(my_query)\n",
    "\n",
    "results = query_job.result() # Wait for the job to complete."
   ]
  },
  {
   "cell_type": "code",
   "execution_count": null,
   "metadata": {},
   "outputs": [],
   "source": [
    "customers_df = results.to_dataframe()\n",
    "print(customers_df.shape)\n",
    "customers_df.head()"
   ]
  },
  {
   "cell_type": "markdown",
   "metadata": {},
   "source": [
    "# Connect to pgAdmin"
   ]
  },
  {
   "cell_type": "code",
   "execution_count": 1,
   "metadata": {},
   "outputs": [],
   "source": [
    "from sqlalchemy import create_engine\n",
    "# from config import db_password2\n",
    "import psycopg2"
   ]
  },
  {
   "cell_type": "code",
   "execution_count": 2,
   "metadata": {},
   "outputs": [],
   "source": [
    "engine = psycopg2.connect(\n",
    "    database = \"postgres\",\n",
    "    user = \"postgres\",\n",
    "    password = \"ucb2020FINAL\",\n",
    "    host = \"js-ucbfinalprojectdb.c8s02fywjegc.us-east-2.rds.amazonaws.com\",\n",
    "#     host = \"dataviz-db.csxrf9ti2aba.us-east-2.rds.amazonaws.com\",\n",
    "    port = 5432)\n",
    "cursor = engine.cursor()"
   ]
  },
  {
   "cell_type": "code",
   "execution_count": null,
   "metadata": {},
   "outputs": [],
   "source": [
    "#use Pandas to see all data in table\n",
    "sql = \"\"\"\n",
    "SELECT \"table_name\",\"column_name\", \"data_type\", \"table_schema\"\n",
    "FROM INFORMATION_SCHEMA.COLUMNS\n",
    "WHERE \"table_schema\" = 'public'\n",
    "ORDER BY table_name  \n",
    "\"\"\"\n",
    "pd.read_sql(sql, con=engine)"
   ]
  },
  {
   "cell_type": "markdown",
   "metadata": {},
   "source": [
    "# Load customers and then insert them"
   ]
  },
  {
   "cell_type": "code",
   "execution_count": null,
   "metadata": {},
   "outputs": [],
   "source": [
    "sql = \"\"\"drop table customers_test2;\"\"\"\n",
    "\n",
    "cursor.execute(sql)\n",
    "sql = \"\"\"\n",
    "CREATE TABLE customers_test2 (\n",
    "     fullvisitorId VARCHAR(19) NOT NULL,\n",
    "\t date DATE NOT NULL\n",
    "\t --PRIMARY KEY (fullvisitorId),\n",
    ");\n",
    "\"\"\"\n",
    "cursor.execute(sql)\n",
    "engine.commit()"
   ]
  },
  {
   "cell_type": "code",
   "execution_count": null,
   "metadata": {},
   "outputs": [],
   "source": [
    "from io import StringIO\n",
    "\n",
    "#use stringIO to initizalize a string buffer so we can \"copy\" the csv from the buffer into the dB\n",
    "\n",
    "# Initialize a string buffer\n",
    "sio = StringIO()\n",
    "sio.write(customers_df.to_csv(index = None,header = None)) #Write the Pandas df as a csv to the buffer\n",
    "sio.seek(0) # be sure to reset the position to the start of the stream\n",
    "\n",
    "# Copy the string buffer into the db as if it were an actual file\n",
    "with engine.cursor() as c:\n",
    "    c.copy_from (sio,\"customers_test2\",columns = customers_df.columns,sep = ',')\n",
    "    engine.commit()"
   ]
  },
  {
   "cell_type": "code",
   "execution_count": null,
   "metadata": {
    "scrolled": true
   },
   "outputs": [],
   "source": [
    "sql = \"\"\"delete from bigquery_totals;\"\"\"\n",
    "cursor.execute(sql)\n",
    "engine.commit()\n"
   ]
  },
  {
   "cell_type": "code",
   "execution_count": null,
   "metadata": {},
   "outputs": [],
   "source": [
    "# Initialize a string buffer\n",
    "sio = StringIO()\n",
    "sio.write(totals_df.to_csv(index = None,header = None,sep = \"|\")) #Write the Pandas df as a csv to the buffer\n",
    "sio.seek(0) # be sure to reset the position to the start of the stream\n",
    "\n",
    "# Copy the string buffer into the db as if it were an actual file\n",
    "with engine.cursor() as c:\n",
    "    c.copy_from (sio,\"bigquery_totals\",columns = totals_df.columns,sep = '|')\n",
    "    engine.commit()"
   ]
  },
  {
   "cell_type": "code",
   "execution_count": null,
   "metadata": {},
   "outputs": [],
   "source": [
    "engine.commit()"
   ]
  },
  {
   "cell_type": "code",
   "execution_count": 3,
   "metadata": {},
   "outputs": [
    {
     "data": {
      "text/plain": [
       "[(203317,)]"
      ]
     },
     "execution_count": 3,
     "metadata": {},
     "output_type": "execute_result"
    }
   ],
   "source": [
    "cursor.execute(\"select count(*) from bigquery_totals;\")\n",
    "cursor.fetchall()"
   ]
  },
  {
   "cell_type": "code",
   "execution_count": null,
   "metadata": {},
   "outputs": [],
   "source": [
    "len(totals_df.referralPath)"
   ]
  },
  {
   "cell_type": "code",
   "execution_count": null,
   "metadata": {},
   "outputs": [],
   "source": []
  },
  {
   "cell_type": "code",
   "execution_count": null,
   "metadata": {},
   "outputs": [],
   "source": []
  },
  {
   "cell_type": "code",
   "execution_count": null,
   "metadata": {},
   "outputs": [],
   "source": []
  },
  {
   "cell_type": "code",
   "execution_count": null,
   "metadata": {},
   "outputs": [],
   "source": []
  },
  {
   "cell_type": "code",
   "execution_count": null,
   "metadata": {},
   "outputs": [],
   "source": []
  },
  {
   "cell_type": "code",
   "execution_count": null,
   "metadata": {},
   "outputs": [],
   "source": []
  }
 ],
 "metadata": {
  "kernelspec": {
   "display_name": "Python 3",
   "language": "python",
   "name": "python3"
  },
  "language_info": {
   "codemirror_mode": {
    "name": "ipython",
    "version": 3
   },
   "file_extension": ".py",
   "mimetype": "text/x-python",
   "name": "python",
   "nbconvert_exporter": "python",
   "pygments_lexer": "ipython3",
   "version": "3.7.3"
  }
 },
 "nbformat": 4,
 "nbformat_minor": 4
}
